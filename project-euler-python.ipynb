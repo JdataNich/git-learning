{
 "cells": [
  {
   "cell_type": "markdown",
   "metadata": {},
   "source": [
    "# Project Euler"
   ]
  },
  {
   "cell_type": "code",
   "execution_count": 1,
   "metadata": {},
   "outputs": [
    {
     "name": "stdout",
     "output_type": "stream",
     "text": [
      "233168\n"
     ]
    }
   ],
   "source": [
    "#Euler Question 1\n",
    "x = 0\n",
    "for i in range(1000):\n",
    "    if i % 3 == 0 or i % 5 == 0:\n",
    "        x += i\n",
    "        \n",
    "print (x)"
   ]
  },
  {
   "cell_type": "code",
   "execution_count": 2,
   "metadata": {},
   "outputs": [
    {
     "name": "stdout",
     "output_type": "stream",
     "text": [
      "4613732.0\n"
     ]
    }
   ],
   "source": [
    "#Euler Question 2\n",
    "x = 1\n",
    "y = 1\n",
    "z = 0\n",
    "result = 0\n",
    "while x  < 4000000:\n",
    "        result = result + x\n",
    "        z = y\n",
    "        y = x + y\n",
    "        x = z\n",
    "    \n",
    "print(result/2)"
   ]
  },
  {
   "cell_type": "code",
   "execution_count": 3,
   "metadata": {},
   "outputs": [],
   "source": [
    "#Euler Question 3\n",
    "def isprime(a):\n",
    "    j = 2\n",
    "    out = True\n",
    "    while j <= (a**0.5):\n",
    "        if (a % j) == 0:\n",
    "            out = False\n",
    "        j = j+1\n",
    "    return out\n",
    "            "
   ]
  },
  {
   "cell_type": "code",
   "execution_count": null,
   "metadata": {},
   "outputs": [],
   "source": [
    "x = 600851475143 \n",
    "y = (x - 1)\n",
    "z = 1\n",
    "i = 1\n",
    "while i < y:\n",
    "    if (x % i) == 0:\n",
    "        if isprime(i) == True:\n",
    "            z = i\n",
    "    i = i+1\n",
    "\n",
    "print(z)"
   ]
  },
  {
   "cell_type": "code",
   "execution_count": null,
   "metadata": {},
   "outputs": [],
   "source": []
  }
 ],
 "metadata": {
  "kernelspec": {
   "display_name": "Python 3",
   "language": "python",
   "name": "python3"
  },
  "language_info": {
   "codemirror_mode": {
    "name": "ipython",
    "version": 3
   },
   "file_extension": ".py",
   "mimetype": "text/x-python",
   "name": "python",
   "nbconvert_exporter": "python",
   "pygments_lexer": "ipython3",
   "version": "3.6.4"
  }
 },
 "nbformat": 4,
 "nbformat_minor": 2
}
