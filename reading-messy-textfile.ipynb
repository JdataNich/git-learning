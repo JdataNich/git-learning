{
 "cells": [
  {
   "cell_type": "code",
   "execution_count": 26,
   "metadata": {},
   "outputs": [],
   "source": [
    "import re\n",
    "import pandas as pd"
   ]
  },
  {
   "cell_type": "code",
   "execution_count": 27,
   "metadata": {},
   "outputs": [],
   "source": [
    "filename = ''\n",
    "output_file = ''\n",
    "# TODO define Headers\n",
    "column_names = ['','Pt','T','Vf','Im','Vu','Pwr','Sig','Ach','Temp','IERange','Over']\n",
    "cols = ['Pt','T','Vf','Im','Vu','Pwr','Sig','Ach','Temp','IERange']\n",
    "out_cols  = ['Pt','T','Vf','Im']"
   ]
  },
  {
   "cell_type": "code",
   "execution_count": 28,
   "metadata": {},
   "outputs": [],
   "source": [
    "pattern = re.compile('[ \\t]#[ \\t]')\n",
    "\n",
    "for i, line in enumerate(open(filename)):\n",
    "        for match in re.finditer(pattern, line):\n",
    "            fromline = (i + 1)"
   ]
  },
  {
   "cell_type": "code",
   "execution_count": 29,
   "metadata": {},
   "outputs": [],
   "source": [
    "df = pd.read_csv(filename,sep='\\t',engine = 'python', skiprows = fromline,skipfooter=1,names = column_names,usecols = cols)"
   ]
  },
  {
   "cell_type": "code",
   "execution_count": 30,
   "metadata": {},
   "outputs": [
    {
     "data": {
      "text/html": [
       "<div>\n",
       "<style scoped>\n",
       "    .dataframe tbody tr th:only-of-type {\n",
       "        vertical-align: middle;\n",
       "    }\n",
       "\n",
       "    .dataframe tbody tr th {\n",
       "        vertical-align: top;\n",
       "    }\n",
       "\n",
       "    .dataframe thead th {\n",
       "        text-align: right;\n",
       "    }\n",
       "</style>\n",
       "<table border=\"1\" class=\"dataframe\">\n",
       "  <thead>\n",
       "    <tr style=\"text-align: right;\">\n",
       "      <th></th>\n",
       "      <th>Pt</th>\n",
       "      <th>T</th>\n",
       "      <th>Vf</th>\n",
       "      <th>Im</th>\n",
       "      <th>Vu</th>\n",
       "      <th>Pwr</th>\n",
       "      <th>Sig</th>\n",
       "      <th>Ach</th>\n",
       "      <th>Temp</th>\n",
       "      <th>IERange</th>\n",
       "    </tr>\n",
       "  </thead>\n",
       "  <tbody>\n",
       "    <tr>\n",
       "      <th>0</th>\n",
       "      <td>0</td>\n",
       "      <td>20</td>\n",
       "      <td>2.09764</td>\n",
       "      <td>-0.000202</td>\n",
       "      <td>0.0</td>\n",
       "      <td>-0.000424</td>\n",
       "      <td>-0.1</td>\n",
       "      <td>-0.000185</td>\n",
       "      <td>-327.566</td>\n",
       "      <td>9</td>\n",
       "    </tr>\n",
       "    <tr>\n",
       "      <th>1</th>\n",
       "      <td>1</td>\n",
       "      <td>40</td>\n",
       "      <td>2.09531</td>\n",
       "      <td>-0.000202</td>\n",
       "      <td>0.0</td>\n",
       "      <td>-0.000423</td>\n",
       "      <td>-0.1</td>\n",
       "      <td>-0.000186</td>\n",
       "      <td>-327.566</td>\n",
       "      <td>9</td>\n",
       "    </tr>\n",
       "    <tr>\n",
       "      <th>2</th>\n",
       "      <td>2</td>\n",
       "      <td>60</td>\n",
       "      <td>2.09370</td>\n",
       "      <td>-0.000202</td>\n",
       "      <td>0.0</td>\n",
       "      <td>-0.000423</td>\n",
       "      <td>-0.1</td>\n",
       "      <td>-0.000185</td>\n",
       "      <td>-327.566</td>\n",
       "      <td>9</td>\n",
       "    </tr>\n",
       "    <tr>\n",
       "      <th>3</th>\n",
       "      <td>3</td>\n",
       "      <td>80</td>\n",
       "      <td>2.09215</td>\n",
       "      <td>-0.000202</td>\n",
       "      <td>0.0</td>\n",
       "      <td>-0.000423</td>\n",
       "      <td>-0.1</td>\n",
       "      <td>-0.000186</td>\n",
       "      <td>-327.566</td>\n",
       "      <td>9</td>\n",
       "    </tr>\n",
       "    <tr>\n",
       "      <th>4</th>\n",
       "      <td>4</td>\n",
       "      <td>100</td>\n",
       "      <td>2.09066</td>\n",
       "      <td>-0.000202</td>\n",
       "      <td>0.0</td>\n",
       "      <td>-0.000423</td>\n",
       "      <td>-0.1</td>\n",
       "      <td>-0.000183</td>\n",
       "      <td>-327.566</td>\n",
       "      <td>9</td>\n",
       "    </tr>\n",
       "  </tbody>\n",
       "</table>\n",
       "</div>"
      ],
      "text/plain": [
       "   Pt    T       Vf        Im   Vu       Pwr  Sig       Ach     Temp  IERange\n",
       "0   0   20  2.09764 -0.000202  0.0 -0.000424 -0.1 -0.000185 -327.566        9\n",
       "1   1   40  2.09531 -0.000202  0.0 -0.000423 -0.1 -0.000186 -327.566        9\n",
       "2   2   60  2.09370 -0.000202  0.0 -0.000423 -0.1 -0.000185 -327.566        9\n",
       "3   3   80  2.09215 -0.000202  0.0 -0.000423 -0.1 -0.000186 -327.566        9\n",
       "4   4  100  2.09066 -0.000202  0.0 -0.000423 -0.1 -0.000183 -327.566        9"
      ]
     },
     "execution_count": 30,
     "metadata": {},
     "output_type": "execute_result"
    }
   ],
   "source": [
    "df.to_csv(output_file,sep='\\t',columns=out_cols)"
   ]
  },
  {
   "cell_type": "code",
   "execution_count": 31,
   "metadata": {},
   "outputs": [],
   "source": []
  },
  {
   "cell_type": "code",
   "execution_count": null,
   "metadata": {},
   "outputs": [],
   "source": []
  }
 ],
 "metadata": {
  "kernelspec": {
   "display_name": "Python 3",
   "language": "python",
   "name": "python3"
  },
  "language_info": {
   "codemirror_mode": {
    "name": "ipython",
    "version": 3
   },
   "file_extension": ".py",
   "mimetype": "text/x-python",
   "name": "python",
   "nbconvert_exporter": "python",
   "pygments_lexer": "ipython3",
   "version": "3.6.4"
  }
 },
 "nbformat": 4,
 "nbformat_minor": 2
}
